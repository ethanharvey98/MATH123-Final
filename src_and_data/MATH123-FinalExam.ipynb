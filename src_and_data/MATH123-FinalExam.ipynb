{
 "cells": [
  {
   "cell_type": "markdown",
   "id": "a2a687de",
   "metadata": {},
   "source": [
    "# MATH123-FinalExam\n",
    "Ethan Harvey"
   ]
  },
  {
   "cell_type": "code",
   "execution_count": 1,
   "id": "e0a4acbe",
   "metadata": {},
   "outputs": [],
   "source": [
    "import numpy as np\n",
    "import pandas as pd\n",
    "\n",
    "from sklearn.preprocessing import StandardScaler\n",
    "from sklearn.linear_model import LinearRegression\n",
    "\n",
    "import matplotlib\n",
    "import matplotlib.pyplot as plt\n",
    "import seaborn as sns\n",
    "\n",
    "import warnings\n",
    "warnings.filterwarnings('ignore')"
   ]
  },
  {
   "cell_type": "markdown",
   "id": "3e0af6ab",
   "metadata": {},
   "source": [
    "### Question 1\n",
    "(a)"
   ]
  },
  {
   "cell_type": "code",
   "execution_count": 2,
   "id": "342d95e8",
   "metadata": {},
   "outputs": [],
   "source": [
    "data = pd.read_csv(\"data/Fish.csv\")\n",
    "# load X and y\n",
    "X = data.drop(columns=[\"Species\",\"Weight\"]).to_numpy()\n",
    "y = data[\"Weight\"].to_numpy()\n",
    "y = np.reshape(y, (len(y),1))\n",
    "# build regression model\n",
    "reg = LinearRegression().fit(X, y)"
   ]
  },
  {
   "cell_type": "markdown",
   "id": "45550738",
   "metadata": {},
   "source": [
    "(b)\n",
    "\n",
    "$\\begin{equation}\n",
    "\\begin{aligned}\n",
    "& \\underset{\\beta}{\\text{minimize}}\n",
    "& & ||y-A\\beta||_{2}^{2} \\\\\n",
    "\\end{aligned}\n",
    "\\end{equation}$\n",
    "\n",
    "$(Y-A\\beta)^{T}(Y-A\\beta) = Y^{T}Y-Y^{T}A\\beta-\\beta^{T}A^{T}Y+\\beta^{T}A^{T}A\\beta$\n",
    "\n",
    "$\\frac{\\partial}{\\partial \\beta}= -2A^{T}Y+2A^{T}A\\beta = 0$\n",
    "\n",
    "$\\beta^{*} = (A^{T}A)^{-1}A^{T}Y$\n",
    "\n",
    "(c)"
   ]
  },
  {
   "cell_type": "code",
   "execution_count": 3,
   "id": "5cee1eaf",
   "metadata": {},
   "outputs": [
    {
     "name": "stdout",
     "output_type": "stream",
     "text": [
      "28.050052862684584\n"
     ]
    }
   ],
   "source": [
    "coefficients = np.hstack((reg.intercept_, reg.coef_[0]))\n",
    "print(coefficients[4])"
   ]
  },
  {
   "cell_type": "markdown",
   "id": "029fc7de",
   "metadata": {},
   "source": [
    "The coefficient $\\beta_{4} = \\frac{\\text{change in height}}{\\text{change in weight}}$. The expected mean change in weight in grams for $1$ centimeter increase in height is $28.050052862684584$ grams.\n",
    "\n",
    "(d)"
   ]
  },
  {
   "cell_type": "code",
   "execution_count": 4,
   "id": "197793d6",
   "metadata": {},
   "outputs": [
    {
     "name": "stdout",
     "output_type": "stream",
     "text": [
      "0.885869307024444\n"
     ]
    }
   ],
   "source": [
    "print(reg.score(X, y))"
   ]
  },
  {
   "cell_type": "markdown",
   "id": "27807234",
   "metadata": {},
   "source": [
    "The $R^{2}$ score for this model is $0.885869307024444$. This is a good model based on its $R^{2}$ score. The best possible $R^{2}$ score is $1$ and a model that always predicts $\\bar{y}$ has an $R^{2}$ score of $0$. $R^{2} = 1 - \\frac{\\text{residual sum of squares}}{\\text{total sum of squares}}$.\n",
    "\n",
    "(e)"
   ]
  },
  {
   "cell_type": "code",
   "execution_count": 5,
   "id": "8a048b47",
   "metadata": {},
   "outputs": [
    {
     "data": {
      "image/png": "[encoded data removed]",
      "text/plain": [
       "<Figure size 432x288 with 1 Axes>"
      ]
     },
     "metadata": {
      "needs_background": "light"
     },
     "output_type": "display_data"
    }
   ],
   "source": [
    "yhat = reg.predict(X)\n",
    "residuals = y - yhat\n",
    "sns.distplot(residuals)\n",
    "plt.title(\"$r_{i} = Y_{i}-\\hat{Y}_{i}$\")\n",
    "plt.xlabel(\"Residual\")\n",
    "plt.show()"
   ]
  },
  {
   "cell_type": "markdown",
   "id": "8c8f3283",
   "metadata": {},
   "source": [
    "As we can see from the histogram, this model satisfies the assumption that the residuals need to be normally distributed (the residuals are more or less normally distributed).\n",
    "\n",
    "(f)"
   ]
  },
  {
   "cell_type": "code",
   "execution_count": 6,
   "id": "2191a58a",
   "metadata": {},
   "outputs": [
    {
     "name": "stdout",
     "output_type": "stream",
     "text": [
      "398.9553459119497\n"
     ]
    }
   ],
   "source": [
    "yhat = reg.predict([np.mean(X, axis=0)])\n",
    "print(yhat[0][0])\n",
    "# scale y\n",
    "y_scaler = StandardScaler()\n",
    "y_scaled = y_scaler.fit_transform(y)\n",
    "# build regression model\n",
    "reg_scaled = LinearRegression().fit(X, y_scaled)"
   ]
  },
  {
   "cell_type": "markdown",
   "id": "ff3425fc",
   "metadata": {},
   "source": [
    "(g)"
   ]
  },
  {
   "cell_type": "code",
   "execution_count": 7,
   "id": "a4051d45",
   "metadata": {},
   "outputs": [
    {
     "name": "stdout",
     "output_type": "stream",
     "text": [
      "Unstandardized coefficients:\n",
      "[-497.73148104   63.4308072    -8.24701709  -28.42163554   28.05005286\n",
      "   23.09898474]\n",
      "\n",
      "Standardized coefficients:\n",
      "[-2.51711576  0.17805847 -0.02315044 -0.0797832   0.07874012  0.06484183]\n",
      "\n",
      "Transformed standardized coefficients:\n",
      "[-497.73148104   63.4308072    -8.24701709  -28.42163554   28.05005286\n",
      "   23.09898474]\n"
     ]
    }
   ],
   "source": [
    "coefficients = np.hstack((reg.intercept_, reg.coef_[0]))\n",
    "coefficients_scaled = np.hstack((reg_scaled.intercept_, reg_scaled.coef_[0]))\n",
    "print(f\"Unstandardized coefficients:\\n{np.array2string(coefficients)}\")\n",
    "print(f\"\\nStandardized coefficients:\\n{np.array2string(coefficients_scaled)}\")\n",
    "# find the original coefficients\n",
    "b0 = reg_scaled.intercept_*y.std()+y.mean()\n",
    "print(f\"\\nTransformed standardized coefficients:\\n{np.array2string(np.hstack((b0,reg_scaled.coef_[0]*y.std())))}\")"
   ]
  },
  {
   "cell_type": "markdown",
   "id": "9755c047",
   "metadata": {},
   "source": [
    "My coefficients are not the same as before. The original coefficients can be derived by the following equations\n",
    "\n",
    "$\\beta_{i} = \\beta_{st,i}\\times\\sigma$\n",
    "\n",
    "$\\beta_{0} = (\\beta_{st,0}\\times\\sigma)+\\mu$\n",
    "\n",
    "where $\\sigma$ is the standard deviation of the dependent variable weight and $\\mu$ is the mean of the dependent variable weight."
   ]
  },
  {
   "cell_type": "markdown",
   "id": "c74f88b5",
   "metadata": {},
   "source": [
    "(h)"
   ]
  },
  {
   "cell_type": "code",
   "execution_count": 8,
   "id": "a5e48f50",
   "metadata": {},
   "outputs": [
    {
     "name": "stdout",
     "output_type": "stream",
     "text": [
      "-0.0026403324202637357\n"
     ]
    }
   ],
   "source": [
    "perch = (data[\"Species\"]==\"Perch\").to_numpy()\n",
    "non_perch = ~(data[\"Species\"]==\"Perch\").to_numpy()\n",
    "perch_features = np.array(np.vstack((perch, non_perch)),dtype=int).T\n",
    "# build regression model\n",
    "perch_reg = LinearRegression().fit(perch_features, y)\n",
    "print(perch_reg.score(perch_features, y))"
   ]
  },
  {
   "cell_type": "markdown",
   "id": "0a1730d9",
   "metadata": {},
   "source": [
    "This is not a good idea. Feature $X_{6}$ is just the logical not of feature $X_{7}$ ($X_{6} =$ ~$X_{7}$). Just knowing if a fish is a perch or not will not help us make accurate predictions of the weight of many species of fish. However, it might improve the $R^{2}$ score of our model in (a) if we include a one hot encoding of all the species of fish in our model.\n",
    "\n",
    "### Question 2\n",
    "\n",
    "(a) \n",
    "\n",
    "$\\sum_{j=1}^{n}a_{j}y_{j}(x_{i}\\cdot x_{j})-\\frac{1}{2}(\\underset{i | y_{i}=-1}{\\text{max}}(\\sum_{j=1}^{n}a_{j}y_{j}(x_{i}\\cdot x_{j}))-\\underset{i | y_{i}=1}{\\text{min}}(\\sum_{j=1}^{n}a_{j}y_{j}(x_{i}\\cdot x_{j})))$\n",
    "\n",
    "(b)\n",
    "\n",
    "$\\sum_{j=1}^{n}a_{j}y_{j}(e^{\\frac{||x_{i}-x_{j}||_{2}^{2}}{2\\sigma^{2}}})-\\frac{1}{2}(\\underset{i | y_{i}=-1}{\\text{max}}(\\sum_{j=1}^{n}a_{j}y_{j}(e^{\\frac{||x_{i}-x_{j}||_{2}^{2}}{2\\sigma^{2}}}))-\\underset{i | y_{i}=1}{\\text{min}}(\\sum_{j=1}^{n}a_{j}y_{j}(e^{\\frac{||x_{i}-x_{j}||_{2}^{2}}{2\\sigma^{2}}})))$\n",
    "\n",
    "(c)\n",
    "\n",
    "If we remove the third training data point $(x_{3}, y_{3})$, the classifier function does not change. Since $\\alpha_{3}^{*}=0$, the sum of the classfier function at that point will be $0$.\n",
    "\n",
    "### Question 3\n",
    "\n",
    "(a)\n",
    "\n",
    "$y_{ij} = \\begin{cases} \n",
    "0 & w_{ij}^{T}x+b_{ij}\\leq 0 \\\\\n",
    "1 & w_{ij}^{T}x+b_{ij}\\gt 0\n",
    "\\end{cases}$\n",
    "\n",
    "If we multiply all of the weights and biases by a constant $c\\gt0$\n",
    "\n",
    "$y_{ij} = \\begin{cases} \n",
    "0 & cw_{ij}^{T}x+cb_{ij}\\leq 0 \\\\\n",
    "1 & cw_{ij}^{T}x+cb_{ij}\\gt 0\n",
    "\\end{cases}$\n",
    "\n",
    "$y_{ij} = \\begin{cases} \n",
    "0 & (c)(w_{ij}^{T}x+b_{ij})\\leq 0 \\\\\n",
    "1 & (c)(w_{ij}^{T}x+b_{ij})\\gt 0\n",
    "\\end{cases}$\n",
    "\n",
    "If we divide each side by the constant $c$ we will get the original equation. Since multiplying all of the weights and biases by a constant $c\\gt0$ does not change the sign of $w_{ij}^{T}x+b_{ij}$ the behavor of the network will not change.\n",
    "\n",
    "(b)\n",
    "\n",
    "$y_{ij} = \\frac{1}{1+e^{-(w_{ij}^{T}x+b_{ij})}}$\n",
    "\n",
    "If we multiply all of the weights and biases by a constant $c\\gt0$\n",
    "\n",
    "$y_{ij} = \\frac{1}{1+e^{-(cw_{ij}^{T}x+cb_{ij})}}$\n",
    "\n",
    "$y_{ij} = \\frac{1}{1+e^{-(c)(w_{ij}^{T}x+b_{ij})}}$\n",
    "\n",
    "If $w_{ij}^{T}x+b_{ij}\\lt0$, then as $c \\to \\infty$\n",
    "\n",
    "$y_{ij} = \\frac{1}{1+e^{-(c)(w_{ij}^{T}x+b_{ij})}} = \\frac{1}{1+e^{\\infty}} \\approx \\frac{1}{1+\\infty} \\approx 0$\n",
    "\n",
    "If $w_{ij}^{T}x+b_{ij}\\gt0$, then as $c \\to \\infty$\n",
    "\n",
    "$y_{ij} = \\frac{1}{1+e^{-(c)(w_{ij}^{T}x+b_{ij})}} = \\frac{1}{1+e^{-\\infty}} \\approx \\frac{1}{1+0} \\approx 1$\n",
    "\n",
    "Therefore, as $c \\to \\infty$ \n",
    "\n",
    "$y_{ij} = \\frac{1}{1+e^{-(c)(w_{ij}^{T}x+b_{ij})}}$\n",
    "\n",
    "can be rewritten as\n",
    "\n",
    "$y_{ij} = \\begin{cases} \n",
    "0 & w_{ij}^{T}x+b_{ij}\\lt 0 \\\\\n",
    "1 & w_{ij}^{T}x+b_{ij}\\gt 0\n",
    "\\end{cases}$\n",
    "\n",
    "which is the same as the network of perceptrons from part (a).\n",
    "\n",
    "### Question 4\n",
    "\n",
    "(a)\n",
    "\n",
    "I took this class because I was interested in learning mathmatical aspects of data analysis.\n",
    "\n",
    "(b)\n",
    "\n",
    "Python"
   ]
  },
  {
   "cell_type": "code",
   "execution_count": null,
   "id": "83136f26",
   "metadata": {},
   "outputs": [],
   "source": []
  }
 ],
 "metadata": {
  "kernelspec": {
   "display_name": "Python 3",
   "language": "python",
   "name": "python3"
  },
  "language_info": {
   "codemirror_mode": {
    "name": "ipython",
    "version": 3
   },
   "file_extension": ".py",
   "mimetype": "text/x-python",
   "name": "python",
   "nbconvert_exporter": "python",
   "pygments_lexer": "ipython3",
   "version": "3.8.8"
  }
 },
 "nbformat": 4,
 "nbformat_minor": 5
}
